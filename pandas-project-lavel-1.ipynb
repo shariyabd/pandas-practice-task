{
 "cells": [
  {
   "cell_type": "code",
   "execution_count": 6,
   "id": "4a0b682b-aac7-4134-8d07-d61e34711673",
   "metadata": {},
   "outputs": [],
   "source": [
    "import pandas as pd\n",
    "import numpy as np"
   ]
  },
  {
   "cell_type": "code",
   "execution_count": 2,
   "id": "c1506e89-53fb-4f46-aa3a-3f594237f660",
   "metadata": {},
   "outputs": [
    {
     "name": "stdout",
     "output_type": "stream",
     "text": [
      "{'name': ['Alice', 'Bob', 'Charlie', 'Diana', 'Ethan', 'Fiona', 'George', 'Hannah', 'Ian', 'Julia', 'Kevin', 'Laura', 'Michael', 'Nina', 'Oscar', 'Paula', 'Quentin', 'Rachel', 'Steve', 'Tina'], 'age': [15, 16, 15, 17, 16, 15, 17, 16, 15, 17, 16, 15, 17, 16, 15, 17, 16, 15, 17, 16], 'marks': [78, 85, 92, 74, 88, 95, 67, 80, 90, 73, 82, 96, 68, 87, 91, 77, 84, 93, 70, 89]}\n"
     ]
    }
   ],
   "source": [
    "names = [\n",
    "    \"Alice\", \"Bob\", \"Charlie\", \"Diana\", \"Ethan\",\n",
    "    \"Fiona\", \"George\", \"Hannah\", \"Ian\", \"Julia\",\n",
    "    \"Kevin\", \"Laura\", \"Michael\", \"Nina\", \"Oscar\",\n",
    "    \"Paula\", \"Quentin\", \"Rachel\", \"Steve\", \"Tina\"\n",
    "]\n",
    "ages = [\n",
    "    15, 16, 15, 17, 16,\n",
    "    15, 17, 16, 15, 17,\n",
    "    16, 15, 17, 16, 15,\n",
    "    17, 16, 15, 17, 16\n",
    "]\n",
    "\n",
    "marks = [\n",
    "    78, 85, 92, 74, 88,\n",
    "    95, 67, 80, 90, 73,\n",
    "    82, 96, 68, 87, 91,\n",
    "    77, 84, 93, 70, 89\n",
    "]\n",
    "\n",
    "\n",
    "students = {\n",
    "    \"name\" : names,\n",
    "    \"age\" : ages,\n",
    "    \"marks\": marks\n",
    "\n",
    "}\n",
    "print(students)"
   ]
  },
  {
   "cell_type": "raw",
   "id": "d974b271-605a-45ce-b8d8-cdff057931cb",
   "metadata": {},
   "source": [
    "show 5 rows"
   ]
  },
  {
   "cell_type": "code",
   "execution_count": 7,
   "id": "90f9b437-ad0b-4b6a-a82a-10b48bd94e41",
   "metadata": {},
   "outputs": [],
   "source": [
    "data = pd.DataFrame(students);\n"
   ]
  },
  {
   "cell_type": "code",
   "execution_count": 8,
   "id": "7a6e9981-f3e6-4e18-892c-56c925f55809",
   "metadata": {},
   "outputs": [
    {
     "name": "stdout",
     "output_type": "stream",
     "text": [
      "       name  age  marks\n",
      "0     Alice   15     78\n",
      "1       Bob   16     85\n",
      "2   Charlie   15     92\n",
      "3     Diana   17     74\n",
      "4     Ethan   16     88\n",
      "5     Fiona   15     95\n",
      "6    George   17     67\n",
      "7    Hannah   16     80\n",
      "8       Ian   15     90\n",
      "9     Julia   17     73\n",
      "10    Kevin   16     82\n",
      "11    Laura   15     96\n",
      "12  Michael   17     68\n",
      "13     Nina   16     87\n",
      "14    Oscar   15     91\n",
      "15    Paula   17     77\n",
      "16  Quentin   16     84\n",
      "17   Rachel   15     93\n",
      "18    Steve   17     70\n",
      "19     Tina   16     89\n"
     ]
    }
   ],
   "source": [
    "print(data)"
   ]
  },
  {
   "cell_type": "code",
   "execution_count": 9,
   "id": "5c5a292c-76b0-430d-ad0e-199d01439aec",
   "metadata": {},
   "outputs": [
    {
     "name": "stdout",
     "output_type": "stream",
     "text": [
      "      name  age  marks\n",
      "0    Alice   15     78\n",
      "1      Bob   16     85\n",
      "2  Charlie   15     92\n",
      "3    Diana   17     74\n",
      "4    Ethan   16     88\n"
     ]
    }
   ],
   "source": [
    "print(data.head())"
   ]
  },
  {
   "cell_type": "raw",
   "id": "d701d2d0-8c03-498f-818e-4378cf54be91",
   "metadata": {},
   "source": [
    "print only names and marks"
   ]
  },
  {
   "cell_type": "code",
   "execution_count": 12,
   "id": "9749940b-58a1-4b28-ac72-131402ba9c2d",
   "metadata": {},
   "outputs": [
    {
     "name": "stdout",
     "output_type": "stream",
     "text": [
      "       name  marks\n",
      "0     Alice     78\n",
      "1       Bob     85\n",
      "2   Charlie     92\n",
      "3     Diana     74\n",
      "4     Ethan     88\n",
      "5     Fiona     95\n",
      "6    George     67\n",
      "7    Hannah     80\n",
      "8       Ian     90\n",
      "9     Julia     73\n",
      "10    Kevin     82\n",
      "11    Laura     96\n",
      "12  Michael     68\n",
      "13     Nina     87\n",
      "14    Oscar     91\n",
      "15    Paula     77\n",
      "16  Quentin     84\n",
      "17   Rachel     93\n",
      "18    Steve     70\n",
      "19     Tina     89\n"
     ]
    }
   ],
   "source": [
    "print(data[[\"name\",\"marks\"]])"
   ]
  },
  {
   "cell_type": "raw",
   "id": "5ba33ab3-d0b8-4afc-b3fa-962e6f1ee6a3",
   "metadata": {},
   "source": [
    "filter students with marks > 80"
   ]
  },
  {
   "cell_type": "code",
   "execution_count": 19,
   "id": "18b80baf-6b18-4e7b-96ae-d2247c586f70",
   "metadata": {},
   "outputs": [
    {
     "name": "stdout",
     "output_type": "stream",
     "text": [
      "0     False\n",
      "1      True\n",
      "2      True\n",
      "3     False\n",
      "4      True\n",
      "5      True\n",
      "6     False\n",
      "7     False\n",
      "8      True\n",
      "9     False\n",
      "10     True\n",
      "11     True\n",
      "12    False\n",
      "13     True\n",
      "14     True\n",
      "15    False\n",
      "16     True\n",
      "17     True\n",
      "18    False\n",
      "19     True\n",
      "Name: marks, dtype: bool\n",
      "1         Bob\n",
      "2     Charlie\n",
      "4       Ethan\n",
      "5       Fiona\n",
      "8         Ian\n",
      "10      Kevin\n",
      "11      Laura\n",
      "13       Nina\n",
      "14      Oscar\n",
      "16    Quentin\n",
      "17     Rachel\n",
      "19       Tina\n",
      "Name: name, dtype: object\n",
      "       name  age  marks\n",
      "1       Bob   16     85\n",
      "2   Charlie   15     92\n",
      "4     Ethan   16     88\n",
      "5     Fiona   15     95\n",
      "8       Ian   15     90\n",
      "10    Kevin   16     82\n",
      "11    Laura   15     96\n",
      "13     Nina   16     87\n",
      "14    Oscar   15     91\n",
      "16  Quentin   16     84\n",
      "17   Rachel   15     93\n",
      "19     Tina   16     89\n"
     ]
    }
   ],
   "source": [
    "print(data[\"marks\"] > 80)\n",
    "\n",
    "high_scorers = data[data[\"marks\"] > 80]\n",
    "print(high_scorers[\"name\"])\n",
    "print(high_scorers)"
   ]
  },
  {
   "cell_type": "code",
   "execution_count": null,
   "id": "2ebedbba-d003-4b19-8e8b-7f31116e712f",
   "metadata": {},
   "outputs": [],
   "source": []
  },
  {
   "cell_type": "raw",
   "id": "359b68e2-dedb-4625-8752-fa711b661f4c",
   "metadata": {},
   "source": [
    "Load a CSV file (or create dummy data). Example: sales.csv with product,\n",
    "quantity, price.​"
   ]
  },
  {
   "cell_type": "code",
   "execution_count": 8,
   "id": "eadcf4fc-decd-4be5-9766-c4f2b327ed16",
   "metadata": {},
   "outputs": [
    {
     "data": {
      "text/html": [
       "<div>\n",
       "<style scoped>\n",
       "    .dataframe tbody tr th:only-of-type {\n",
       "        vertical-align: middle;\n",
       "    }\n",
       "\n",
       "    .dataframe tbody tr th {\n",
       "        vertical-align: top;\n",
       "    }\n",
       "\n",
       "    .dataframe thead th {\n",
       "        text-align: right;\n",
       "    }\n",
       "</style>\n",
       "<table border=\"1\" class=\"dataframe\">\n",
       "  <thead>\n",
       "    <tr style=\"text-align: right;\">\n",
       "      <th></th>\n",
       "      <th>product</th>\n",
       "      <th>quantity</th>\n",
       "      <th>price</th>\n",
       "    </tr>\n",
       "  </thead>\n",
       "  <tbody>\n",
       "    <tr>\n",
       "      <th>0</th>\n",
       "      <td>Monitor</td>\n",
       "      <td>12</td>\n",
       "      <td>800</td>\n",
       "    </tr>\n",
       "    <tr>\n",
       "      <th>1</th>\n",
       "      <td>Headphones</td>\n",
       "      <td>12</td>\n",
       "      <td>800</td>\n",
       "    </tr>\n",
       "    <tr>\n",
       "      <th>2</th>\n",
       "      <td>Keyboard</td>\n",
       "      <td>7</td>\n",
       "      <td>800</td>\n",
       "    </tr>\n",
       "    <tr>\n",
       "      <th>3</th>\n",
       "      <td>Headphones</td>\n",
       "      <td>12</td>\n",
       "      <td>800</td>\n",
       "    </tr>\n",
       "    <tr>\n",
       "      <th>4</th>\n",
       "      <td>Headphones</td>\n",
       "      <td>13</td>\n",
       "      <td>150</td>\n",
       "    </tr>\n",
       "    <tr>\n",
       "      <th>5</th>\n",
       "      <td>Mouse</td>\n",
       "      <td>8</td>\n",
       "      <td>50</td>\n",
       "    </tr>\n",
       "    <tr>\n",
       "      <th>6</th>\n",
       "      <td>Keyboard</td>\n",
       "      <td>3</td>\n",
       "      <td>50</td>\n",
       "    </tr>\n",
       "    <tr>\n",
       "      <th>7</th>\n",
       "      <td>Keyboard</td>\n",
       "      <td>14</td>\n",
       "      <td>800</td>\n",
       "    </tr>\n",
       "    <tr>\n",
       "      <th>8</th>\n",
       "      <td>Keyboard</td>\n",
       "      <td>1</td>\n",
       "      <td>50</td>\n",
       "    </tr>\n",
       "    <tr>\n",
       "      <th>9</th>\n",
       "      <td>Headphones</td>\n",
       "      <td>4</td>\n",
       "      <td>50</td>\n",
       "    </tr>\n",
       "  </tbody>\n",
       "</table>\n",
       "</div>"
      ],
      "text/plain": [
       "      product  quantity  price\n",
       "0     Monitor        12    800\n",
       "1  Headphones        12    800\n",
       "2    Keyboard         7    800\n",
       "3  Headphones        12    800\n",
       "4  Headphones        13    150\n",
       "5       Mouse         8     50\n",
       "6    Keyboard         3     50\n",
       "7    Keyboard        14    800\n",
       "8    Keyboard         1     50\n",
       "9  Headphones         4     50"
      ]
     },
     "execution_count": 8,
     "metadata": {},
     "output_type": "execute_result"
    }
   ],
   "source": [
    "\n",
    "\n",
    "np.random.seed(42)\n",
    "\n",
    "\n",
    "products = [\"Laptop\", \"Mouse\", \"Keyboard\", \"Monitor\", \"Headphones\"]\n",
    "data_large = {\n",
    "    \"product\": np.random.choice(products, 50),\n",
    "    \"quantity\": np.random.randint(1, 15, 50),\n",
    "    \"price\": np.random.choice([800, 20, 50, 150, 70], 50)\n",
    "}\n",
    "\n",
    "df_large = pd.DataFrame(data_large)\n",
    "\n",
    "\n",
    "file_path_large = \"/home/shariya/pandas-practice-task/sales.csv\"\n",
    "df_large.to_csv(file_path_large, index=False)\n",
    "\n",
    "df_large.head(10)\n"
   ]
  },
  {
   "cell_type": "code",
   "execution_count": 24,
   "id": "49cf3aec-658a-4ac7-994e-ba0b3ef2b1e1",
   "metadata": {},
   "outputs": [
    {
     "name": "stdout",
     "output_type": "stream",
     "text": [
      "      product  total\n",
      "0  Headphones  32510\n",
      "1    Keyboard  51600\n",
      "2      Laptop   5430\n",
      "3     Monitor  23050\n",
      "4       Mouse  21330\n"
     ]
    }
   ],
   "source": [
    "\n",
    "\n",
    "df_large[\"total\"] = df_large['quantity'] * df_large['price']\n",
    "total_sales = df_large.groupby(\"product\")[\"total\"].sum().reset_index()\n",
    "print(total_sales)"
   ]
  },
  {
   "cell_type": "code",
   "execution_count": 25,
   "id": "8d1ca1b3-50da-4a03-b4eb-f2085ef381f1",
   "metadata": {},
   "outputs": [
    {
     "data": {
      "text/plain": [
       "Day1    30\n",
       "Day2    32\n",
       "Day3    28\n",
       "Day4    25\n",
       "Day5    27\n",
       "Name: Temperature, dtype: int64"
      ]
     },
     "execution_count": 25,
     "metadata": {},
     "output_type": "execute_result"
    }
   ],
   "source": [
    "temperatures = pd.Series([30, 32, 28, 25, 27], index=[\"Day1\", \"Day2\", \"Day3\", \"Day4\", \"Day5\"],name=\"Temperature\")\n",
    "\n",
    "temperatures"
   ]
  },
  {
   "cell_type": "code",
   "execution_count": 26,
   "id": "086ae762-ddce-4a48-9e32-a59ca8f97746",
   "metadata": {},
   "outputs": [
    {
     "data": {
      "text/plain": [
       "Day1    86.0\n",
       "Day2    89.6\n",
       "Day3    82.4\n",
       "Day4    77.0\n",
       "Day5    80.6\n",
       "Name: Temperature, dtype: float64"
      ]
     },
     "execution_count": 26,
     "metadata": {},
     "output_type": "execute_result"
    }
   ],
   "source": [
    "temperatures_f = temperatures * 9/5 + 32\n",
    "\n",
    "temperatures_f"
   ]
  },
  {
   "cell_type": "code",
   "execution_count": 28,
   "id": "9815afdd-3237-4377-91e6-eef97a9c743f",
   "metadata": {},
   "outputs": [
    {
     "data": {
      "text/plain": [
       "np.float64(89.6)"
      ]
     },
     "execution_count": 28,
     "metadata": {},
     "output_type": "execute_result"
    }
   ],
   "source": [
    "temperatures_f.max()\n"
   ]
  },
  {
   "cell_type": "code",
   "execution_count": 29,
   "id": "eb72660b-8441-449e-9f1a-fddb92071ae4",
   "metadata": {},
   "outputs": [
    {
     "data": {
      "text/plain": [
       "np.float64(77.0)"
      ]
     },
     "execution_count": 29,
     "metadata": {},
     "output_type": "execute_result"
    }
   ],
   "source": [
    "temperatures_f.min()\n"
   ]
  },
  {
   "cell_type": "code",
   "execution_count": 30,
   "id": "74c5f7dc-f9f4-4ab8-93ab-187f15b3c088",
   "metadata": {},
   "outputs": [
    {
     "data": {
      "text/plain": [
       "np.float64(28.4)"
      ]
     },
     "execution_count": 30,
     "metadata": {},
     "output_type": "execute_result"
    }
   ],
   "source": [
    "temperatures.mean()"
   ]
  },
  {
   "cell_type": "code",
   "execution_count": null,
   "id": "82168e2a-b3f0-4662-83a5-cb8a3bc4f532",
   "metadata": {},
   "outputs": [],
   "source": []
  }
 ],
 "metadata": {
  "kernelspec": {
   "display_name": "Python 3 (ipykernel)",
   "language": "python",
   "name": "python3"
  },
  "language_info": {
   "codemirror_mode": {
    "name": "ipython",
    "version": 3
   },
   "file_extension": ".py",
   "mimetype": "text/x-python",
   "name": "python",
   "nbconvert_exporter": "python",
   "pygments_lexer": "ipython3",
   "version": "3.10.12"
  }
 },
 "nbformat": 4,
 "nbformat_minor": 5
}
