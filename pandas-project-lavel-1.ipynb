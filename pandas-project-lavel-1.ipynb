{
 "cells": [
  {
   "cell_type": "code",
   "execution_count": 4,
   "id": "4a0b682b-aac7-4134-8d07-d61e34711673",
   "metadata": {},
   "outputs": [],
   "source": [
    "import pandas as pd\n"
   ]
  },
  {
   "cell_type": "code",
   "execution_count": 2,
   "id": "c1506e89-53fb-4f46-aa3a-3f594237f660",
   "metadata": {},
   "outputs": [
    {
     "name": "stdout",
     "output_type": "stream",
     "text": [
      "{'name': ['Alice', 'Bob', 'Charlie', 'Diana', 'Ethan', 'Fiona', 'George', 'Hannah', 'Ian', 'Julia', 'Kevin', 'Laura', 'Michael', 'Nina', 'Oscar', 'Paula', 'Quentin', 'Rachel', 'Steve', 'Tina'], 'age': [15, 16, 15, 17, 16, 15, 17, 16, 15, 17, 16, 15, 17, 16, 15, 17, 16, 15, 17, 16], 'marks': [78, 85, 92, 74, 88, 95, 67, 80, 90, 73, 82, 96, 68, 87, 91, 77, 84, 93, 70, 89]}\n"
     ]
    }
   ],
   "source": [
    "names = [\n",
    "    \"Alice\", \"Bob\", \"Charlie\", \"Diana\", \"Ethan\",\n",
    "    \"Fiona\", \"George\", \"Hannah\", \"Ian\", \"Julia\",\n",
    "    \"Kevin\", \"Laura\", \"Michael\", \"Nina\", \"Oscar\",\n",
    "    \"Paula\", \"Quentin\", \"Rachel\", \"Steve\", \"Tina\"\n",
    "]\n",
    "ages = [\n",
    "    15, 16, 15, 17, 16,\n",
    "    15, 17, 16, 15, 17,\n",
    "    16, 15, 17, 16, 15,\n",
    "    17, 16, 15, 17, 16\n",
    "]\n",
    "\n",
    "marks = [\n",
    "    78, 85, 92, 74, 88,\n",
    "    95, 67, 80, 90, 73,\n",
    "    82, 96, 68, 87, 91,\n",
    "    77, 84, 93, 70, 89\n",
    "]\n",
    "\n",
    "\n",
    "students = {\n",
    "    \"name\" : names,\n",
    "    \"age\" : ages,\n",
    "    \"marks\": marks\n",
    "\n",
    "}\n",
    "print(students)"
   ]
  },
  {
   "cell_type": "raw",
   "id": "d974b271-605a-45ce-b8d8-cdff057931cb",
   "metadata": {},
   "source": [
    "show 5 rows"
   ]
  },
  {
   "cell_type": "code",
   "execution_count": 7,
   "id": "90f9b437-ad0b-4b6a-a82a-10b48bd94e41",
   "metadata": {},
   "outputs": [],
   "source": [
    "data = pd.DataFrame(students);\n"
   ]
  },
  {
   "cell_type": "code",
   "execution_count": 8,
   "id": "7a6e9981-f3e6-4e18-892c-56c925f55809",
   "metadata": {},
   "outputs": [
    {
     "name": "stdout",
     "output_type": "stream",
     "text": [
      "       name  age  marks\n",
      "0     Alice   15     78\n",
      "1       Bob   16     85\n",
      "2   Charlie   15     92\n",
      "3     Diana   17     74\n",
      "4     Ethan   16     88\n",
      "5     Fiona   15     95\n",
      "6    George   17     67\n",
      "7    Hannah   16     80\n",
      "8       Ian   15     90\n",
      "9     Julia   17     73\n",
      "10    Kevin   16     82\n",
      "11    Laura   15     96\n",
      "12  Michael   17     68\n",
      "13     Nina   16     87\n",
      "14    Oscar   15     91\n",
      "15    Paula   17     77\n",
      "16  Quentin   16     84\n",
      "17   Rachel   15     93\n",
      "18    Steve   17     70\n",
      "19     Tina   16     89\n"
     ]
    }
   ],
   "source": [
    "print(data)"
   ]
  },
  {
   "cell_type": "code",
   "execution_count": 9,
   "id": "5c5a292c-76b0-430d-ad0e-199d01439aec",
   "metadata": {},
   "outputs": [
    {
     "name": "stdout",
     "output_type": "stream",
     "text": [
      "      name  age  marks\n",
      "0    Alice   15     78\n",
      "1      Bob   16     85\n",
      "2  Charlie   15     92\n",
      "3    Diana   17     74\n",
      "4    Ethan   16     88\n"
     ]
    }
   ],
   "source": [
    "print(data.head())"
   ]
  },
  {
   "cell_type": "raw",
   "id": "d701d2d0-8c03-498f-818e-4378cf54be91",
   "metadata": {},
   "source": [
    "print only names and marks"
   ]
  },
  {
   "cell_type": "code",
   "execution_count": 12,
   "id": "9749940b-58a1-4b28-ac72-131402ba9c2d",
   "metadata": {},
   "outputs": [
    {
     "name": "stdout",
     "output_type": "stream",
     "text": [
      "       name  marks\n",
      "0     Alice     78\n",
      "1       Bob     85\n",
      "2   Charlie     92\n",
      "3     Diana     74\n",
      "4     Ethan     88\n",
      "5     Fiona     95\n",
      "6    George     67\n",
      "7    Hannah     80\n",
      "8       Ian     90\n",
      "9     Julia     73\n",
      "10    Kevin     82\n",
      "11    Laura     96\n",
      "12  Michael     68\n",
      "13     Nina     87\n",
      "14    Oscar     91\n",
      "15    Paula     77\n",
      "16  Quentin     84\n",
      "17   Rachel     93\n",
      "18    Steve     70\n",
      "19     Tina     89\n"
     ]
    }
   ],
   "source": [
    "print(data[[\"name\",\"marks\"]])"
   ]
  },
  {
   "cell_type": "raw",
   "id": "5ba33ab3-d0b8-4afc-b3fa-962e6f1ee6a3",
   "metadata": {},
   "source": [
    "filter students with marks > 80"
   ]
  },
  {
   "cell_type": "code",
   "execution_count": 19,
   "id": "18b80baf-6b18-4e7b-96ae-d2247c586f70",
   "metadata": {},
   "outputs": [
    {
     "name": "stdout",
     "output_type": "stream",
     "text": [
      "0     False\n",
      "1      True\n",
      "2      True\n",
      "3     False\n",
      "4      True\n",
      "5      True\n",
      "6     False\n",
      "7     False\n",
      "8      True\n",
      "9     False\n",
      "10     True\n",
      "11     True\n",
      "12    False\n",
      "13     True\n",
      "14     True\n",
      "15    False\n",
      "16     True\n",
      "17     True\n",
      "18    False\n",
      "19     True\n",
      "Name: marks, dtype: bool\n",
      "1         Bob\n",
      "2     Charlie\n",
      "4       Ethan\n",
      "5       Fiona\n",
      "8         Ian\n",
      "10      Kevin\n",
      "11      Laura\n",
      "13       Nina\n",
      "14      Oscar\n",
      "16    Quentin\n",
      "17     Rachel\n",
      "19       Tina\n",
      "Name: name, dtype: object\n",
      "       name  age  marks\n",
      "1       Bob   16     85\n",
      "2   Charlie   15     92\n",
      "4     Ethan   16     88\n",
      "5     Fiona   15     95\n",
      "8       Ian   15     90\n",
      "10    Kevin   16     82\n",
      "11    Laura   15     96\n",
      "13     Nina   16     87\n",
      "14    Oscar   15     91\n",
      "16  Quentin   16     84\n",
      "17   Rachel   15     93\n",
      "19     Tina   16     89\n"
     ]
    }
   ],
   "source": [
    "print(data[\"marks\"] > 80)\n",
    "\n",
    "high_scorers = data[data[\"marks\"] > 80]\n",
    "print(high_scorers[\"name\"])\n",
    "print(high_scorers)"
   ]
  },
  {
   "cell_type": "code",
   "execution_count": null,
   "id": "d08d0e29-1681-4c21-86cc-506069e8173b",
   "metadata": {},
   "outputs": [],
   "source": []
  }
 ],
 "metadata": {
  "kernelspec": {
   "display_name": "Python 3 (ipykernel)",
   "language": "python",
   "name": "python3"
  },
  "language_info": {
   "codemirror_mode": {
    "name": "ipython",
    "version": 3
   },
   "file_extension": ".py",
   "mimetype": "text/x-python",
   "name": "python",
   "nbconvert_exporter": "python",
   "pygments_lexer": "ipython3",
   "version": "3.10.12"
  }
 },
 "nbformat": 4,
 "nbformat_minor": 5
}
