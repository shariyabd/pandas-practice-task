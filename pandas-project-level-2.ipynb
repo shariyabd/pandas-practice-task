{
 "cells": [
  {
   "cell_type": "code",
   "execution_count": 6,
   "id": "939182f3-59f0-4e8b-8da2-773fb5023892",
   "metadata": {},
   "outputs": [],
   "source": [
    "import pandas as pd\n",
    "import random as rand"
   ]
  },
  {
   "cell_type": "code",
   "execution_count": 14,
   "id": "9b1c5295-cfe8-4b4d-b684-02a42ac08d91",
   "metadata": {
    "scrolled": true
   },
   "outputs": [
    {
     "name": "stdout",
     "output_type": "stream",
     "text": [
      " id          name department  salary\n",
      "  1    Ian Wright    Support 32357.0\n",
      "  2 George Miller         IT 38901.0\n",
      "  3     Bob Smith      Sales     NaN\n",
      "  4     Bob Smith         IT 57847.0\n",
      "  5    Nina Lopez  Marketing     NaN\n",
      "  6    Oscar Reed         IT     NaN\n",
      "  7 Michael Scott         IT     NaN\n",
      "  8    Ian Wright         HR 82881.0\n",
      "  9   Zachary Lee  Marketing     NaN\n",
      " 10   Zachary Lee    Finance     NaN\n",
      " 11   Fiona Clark    Support 85611.0\n",
      " 12  Quincy Baker         IT     NaN\n",
      " 13 Alice Johnson         IT 37755.0\n",
      " 14   Zachary Lee Operations     NaN\n",
      " 15  Rachel Green    Support 35598.0\n",
      " 16    Sam Wilson Operations 30250.0\n",
      " 17   Xavier Cole    Support 77614.0\n",
      " 18   Jane Foster Operations 99592.0\n",
      " 19 Charlie Brown         IT 80486.0\n",
      " 20 Michael Scott Operations     NaN\n",
      " 21    Nina Lopez         HR 66644.0\n",
      " 22    Nina Lopez         HR 42825.0\n",
      " 23  Yvonne Blake         IT     NaN\n",
      " 24  Hannah Davis  Marketing 78212.0\n",
      " 25   Fiona Clark         IT 43693.0\n",
      " 26  Hannah Davis      Sales 39569.0\n",
      " 27  Hannah Davis Operations     NaN\n",
      " 28 Alice Johnson      Sales 75949.0\n",
      " 29   Tina Brooks Operations 84352.0\n",
      " 30    Nina Lopez  Marketing     NaN\n",
      " 31    Nina Lopez    Support     NaN\n",
      " 32  Rachel Green         HR     NaN\n",
      " 33  Victor Stone Operations     NaN\n",
      " 34   Xavier Cole Operations     NaN\n",
      " 35    Uma Carter  Marketing 81024.0\n",
      " 36  Diana Prince         IT 44180.0\n",
      " 37    Uma Carter         HR 70409.0\n",
      " 38    Nina Lopez    Support     NaN\n",
      " 39  Yvonne Blake    Support     NaN\n",
      " 40  Victor Stone         IT     NaN\n",
      " 41 Charlie Brown Operations 83505.0\n",
      " 42   Fiona Clark         HR     NaN\n",
      " 43   Zachary Lee         IT 64756.0\n",
      " 44    Ian Wright    Finance 41071.0\n",
      " 45    Oscar Reed    Finance     NaN\n",
      " 46 Alice Johnson Operations     NaN\n",
      " 47  Rachel Green    Finance 92591.0\n",
      " 48  Quincy Baker Operations     NaN\n",
      " 49    Sam Wilson         HR 63371.0\n",
      " 50   Zachary Lee         HR 99914.0\n",
      " 51  Yvonne Blake    Finance 39772.0\n",
      " 52    Sam Wilson    Finance     NaN\n",
      " 53    Sam Wilson         HR 94694.0\n",
      " 54    Ian Wright    Support     NaN\n",
      " 55  Diana Prince    Finance     NaN\n",
      " 56   Xavier Cole Operations 32434.0\n",
      " 57    Sam Wilson      Sales     NaN\n",
      " 58     Bob Smith    Finance     NaN\n",
      " 59  Rachel Green    Finance 87570.0\n",
      " 60    Laura Hill         HR 35401.0\n",
      " 61   Paula Adams  Marketing     NaN\n",
      " 62 Charlie Brown  Marketing 42226.0\n",
      " 63    Sam Wilson Operations 62030.0\n",
      " 64   Zachary Lee    Finance     NaN\n",
      " 65    Ethan Hunt    Support 43845.0\n",
      " 66 George Miller  Marketing 77075.0\n",
      " 67  Quincy Baker    Support 84816.0\n",
      " 68  Kevin Turner         IT 36312.0\n",
      " 69 George Miller    Finance     NaN\n",
      " 70    Laura Hill    Finance     NaN\n",
      " 71    Ethan Hunt         HR 61659.0\n",
      " 72 Charlie Brown      Sales     NaN\n",
      " 73   Wendy Hayes         HR     NaN\n",
      " 74   Zachary Lee         IT     NaN\n",
      " 75    Ethan Hunt    Finance     NaN\n",
      " 76  Kevin Turner      Sales     NaN\n",
      " 77    Nina Lopez      Sales 69652.0\n",
      " 78  Hannah Davis         HR     NaN\n",
      " 79    Oscar Reed    Support 80933.0\n",
      " 80  Victor Stone  Marketing     NaN\n",
      " 81   Paula Adams    Support     NaN\n",
      " 82 Michael Scott         HR 98128.0\n",
      " 83   Xavier Cole    Support     NaN\n",
      " 84  Rachel Green    Support 81322.0\n",
      " 85    Ethan Hunt  Marketing     NaN\n",
      " 86  Kevin Turner  Marketing 78453.0\n",
      " 87  Hannah Davis  Marketing 73653.0\n",
      " 88    Nina Lopez         HR     NaN\n",
      " 89    Nina Lopez  Marketing     NaN\n",
      " 90   Xavier Cole         HR     NaN\n",
      " 91    Sam Wilson         IT 33789.0\n",
      " 92   Fiona Clark      Sales 87942.0\n",
      " 93  Diana Prince    Support     NaN\n",
      " 94  Diana Prince         HR     NaN\n",
      " 95    Laura Hill  Marketing 40730.0\n",
      " 96   Tina Brooks      Sales 95113.0\n",
      " 97  Kevin Turner         IT     NaN\n",
      " 98    Nina Lopez    Finance     NaN\n",
      " 99    Ethan Hunt    Support     NaN\n",
      "100    Laura Hill    Finance 83937.0\n"
     ]
    }
   ],
   "source": [
    "\n",
    "file_path = \"/home/shariya/pandas-practice-task/employees.csv\"\n",
    "data = pd.read_csv(file_path)\n",
    "print(data.to_string(index=False))\n"
   ]
  },
  {
   "cell_type": "raw",
   "id": "5b7914ae-725f-4f4e-b706-9733c769cb92",
   "metadata": {},
   "source": [
    "find avarage salery"
   ]
  },
  {
   "cell_type": "code",
   "execution_count": 19,
   "id": "7add4309-4049-4e8c-95d6-414ae5db767c",
   "metadata": {},
   "outputs": [
    {
     "name": "stdout",
     "output_type": "stream",
     "text": [
      "     id           name department    salary\n",
      "0     1     Ian Wright    Support  32357.00\n",
      "1     2  George Miller         IT  38901.00\n",
      "2     3      Bob Smith      Sales  65048.86\n",
      "3     4      Bob Smith         IT  57847.00\n",
      "4     5     Nina Lopez  Marketing  65048.86\n",
      "..  ...            ...        ...       ...\n",
      "95   96    Tina Brooks      Sales  95113.00\n",
      "96   97   Kevin Turner         IT  65048.86\n",
      "97   98     Nina Lopez    Finance  65048.86\n",
      "98   99     Ethan Hunt    Support  65048.86\n",
      "99  100     Laura Hill    Finance  83937.00\n",
      "\n",
      "[100 rows x 4 columns]\n"
     ]
    }
   ],
   "source": [
    "data[\"salary\"] = data[\"salary\"].fillna(data[\"salary\"].mean())\n",
    "\n",
    "print(data)"
   ]
  },
  {
   "cell_type": "code",
   "execution_count": 16,
   "id": "d22198bf-e46c-43fe-b5fb-0ed8459bc61f",
   "metadata": {},
   "outputs": [
    {
     "name": "stdout",
     "output_type": "stream",
     "text": [
      "     id           name department    salary\n",
      "0     1     Ian Wright    Support  32357.00\n",
      "1     2  George Miller         IT  38901.00\n",
      "2     3      Bob Smith      Sales  65048.86\n",
      "3     4      Bob Smith         IT  57847.00\n",
      "4     5     Nina Lopez  Marketing  65048.86\n",
      "..  ...            ...        ...       ...\n",
      "95   96    Tina Brooks      Sales  95113.00\n",
      "96   97   Kevin Turner         IT  65048.86\n",
      "97   98     Nina Lopez    Finance  65048.86\n",
      "98   99     Ethan Hunt    Support  65048.86\n",
      "99  100     Laura Hill    Finance  83937.00\n",
      "\n",
      "[100 rows x 4 columns]\n"
     ]
    },
    {
     "name": "stderr",
     "output_type": "stream",
     "text": [
      "/tmp/ipykernel_4563/722604213.py:1: FutureWarning: A value is trying to be set on a copy of a DataFrame or Series through chained assignment using an inplace method.\n",
      "The behavior will change in pandas 3.0. This inplace method will never work because the intermediate object on which we are setting values always behaves as a copy.\n",
      "\n",
      "For example, when doing 'df[col].method(value, inplace=True)', try using 'df.method({col: value}, inplace=True)' or df[col] = df[col].method(value) instead, to perform the operation inplace on the original object.\n",
      "\n",
      "\n",
      "  data[\"salary\"].fillna(data[\"salary\"].mean(), inplace=True)\n"
     ]
    }
   ],
   "source": []
  },
  {
   "cell_type": "code",
   "execution_count": 20,
   "id": "164d0d13-81bf-4754-8e21-3375147ad64d",
   "metadata": {},
   "outputs": [
    {
     "name": "stdout",
     "output_type": "stream",
     "text": [
      "99914.0\n"
     ]
    }
   ],
   "source": [
    "highiest_paid_employee = data['salary'].max();\n",
    "print(highiest_paid_employee)"
   ]
  },
  {
   "cell_type": "code",
   "execution_count": 22,
   "id": "444e5165-2f68-4855-8fe9-f245323b8a65",
   "metadata": {},
   "outputs": [
    {
     "name": "stdout",
     "output_type": "stream",
     "text": [
      "department\n",
      "Finance       66361.973333\n",
      "HR            68898.118824\n",
      "IT            55816.313750\n",
      "Marketing     66193.930000\n",
      "Operations    65192.693846\n",
      "Sales         69824.493333\n",
      "Support       65155.430000\n",
      "Name: salary, dtype: float64\n"
     ]
    }
   ],
   "source": [
    "group_by_department = data.groupby(\"department\")[\"salary\"].mean()\n",
    "print(group_by_department)"
   ]
  },
  {
   "cell_type": "code",
   "execution_count": 24,
   "id": "0e3df749-5fdb-4cb0-9e8c-12e154f3ebde",
   "metadata": {},
   "outputs": [
    {
     "name": "stdout",
     "output_type": "stream",
     "text": [
      "   survived  pclass     sex   age  sibsp  parch     fare embarked  class  \\\n",
      "0         0       3    male  22.0      1      0   7.2500        S  Third   \n",
      "1         1       1  female  38.0      1      0  71.2833        C  First   \n",
      "2         1       3  female  26.0      0      0   7.9250        S  Third   \n",
      "3         1       1  female  35.0      1      0  53.1000        S  First   \n",
      "4         0       3    male  35.0      0      0   8.0500        S  Third   \n",
      "\n",
      "     who  adult_male deck  embark_town alive  alone  \n",
      "0    man        True  NaN  Southampton    no  False  \n",
      "1  woman       False    C    Cherbourg   yes  False  \n",
      "2  woman       False  NaN  Southampton   yes   True  \n",
      "3  woman       False    C  Southampton   yes  False  \n",
      "4    man        True  NaN  Southampton    no   True  \n"
     ]
    }
   ],
   "source": [
    "import seaborn as sns\n",
    "import pandas as pd\n",
    "\n",
    "data = sns.load_dataset(\"titanic\")\n",
    "\n",
    "print(data.head())\n"
   ]
  },
  {
   "cell_type": "code",
   "execution_count": 29,
   "id": "c7d4eb32-3f09-4c3c-8c2d-4f05cb19e20f",
   "metadata": {},
   "outputs": [
    {
     "data": {
      "text/plain": [
       "survived       342\n",
       "pclass         342\n",
       "sex            342\n",
       "age            290\n",
       "sibsp          342\n",
       "parch          342\n",
       "fare           342\n",
       "embarked       340\n",
       "class          342\n",
       "who            342\n",
       "adult_male     342\n",
       "deck           136\n",
       "embark_town    340\n",
       "alive          342\n",
       "alone          342\n",
       "dtype: int64"
      ]
     },
     "execution_count": 29,
     "metadata": {},
     "output_type": "execute_result"
    }
   ],
   "source": [
    "# print((data[\"survived\"] == 1).count())\n",
    "data[data[\"survived\"] == 1].count()\n"
   ]
  },
  {
   "cell_type": "code",
   "execution_count": 2,
   "id": "2887baaa-14dd-425e-bc30-4e23be8a23fc",
   "metadata": {},
   "outputs": [
    {
     "name": "stdout",
     "output_type": "stream",
     "text": [
      "{'name': ['Alice', 'Bob', 'Charlie', 'Diana', 'Ethan', 'Fiona', 'George', 'Hannah', 'Ian', 'Julia', 'Kevin', 'Laura', 'Michael', 'Nina', 'Oscar', 'Paula', 'Quentin', 'Rachel', 'Steve', 'Tina'], 'age': [15, 16, 15, 17, 16, 15, 17, 16, 15, 17, 16, 15, 17, 16, 15, 17, 16, 15, 17, 16], 'marks': [78, 85, 92, 74, 88, 95, 67, 80, 90, 73, 82, 96, 68, 87, 91, 77, 84, 93, 70, 89]}\n"
     ]
    }
   ],
   "source": [
    "names = [\n",
    "    \"Alice\", \"Bob\", \"Charlie\", \"Diana\", \"Ethan\",\n",
    "    \"Fiona\", \"George\", \"Hannah\", \"Ian\", \"Julia\",\n",
    "    \"Kevin\", \"Laura\", \"Michael\", \"Nina\", \"Oscar\",\n",
    "    \"Paula\", \"Quentin\", \"Rachel\", \"Steve\", \"Tina\"\n",
    "]\n",
    "ages = [\n",
    "    15, 16, 15, 17, 16,\n",
    "    15, 17, 16, 15, 17,\n",
    "    16, 15, 17, 16, 15,\n",
    "    17, 16, 15, 17, 16\n",
    "]\n",
    "\n",
    "marks = [\n",
    "    78, 85, 92, 74, 88,\n",
    "    95, 67, 80, 90, 73,\n",
    "    82, 96, 68, 87, 91,\n",
    "    77, 84, 93, 70, 89\n",
    "]\n",
    "\n",
    "\n",
    "students = {\n",
    "    \"name\" : names,\n",
    "    \"age\" : ages,\n",
    "    \"marks\": marks\n",
    "\n",
    "}\n",
    "print(students)"
   ]
  },
  {
   "cell_type": "code",
   "execution_count": null,
   "id": "16e6d132-d20b-43a8-90d7-80f8c50f7240",
   "metadata": {},
   "outputs": [],
   "source": [
    "Find average marks per student."
   ]
  },
  {
   "cell_type": "code",
   "execution_count": 11,
   "id": "e889885d-0c31-4c78-bc6e-593e93f6e6dc",
   "metadata": {
    "scrolled": true
   },
   "outputs": [
    {
     "name": "stdout",
     "output_type": "stream",
     "text": [
      "       name  age  marks\n",
      "0     Alice   15     78\n",
      "1       Bob   16     85\n",
      "2   Charlie   15     92\n",
      "3     Diana   17     74\n",
      "4     Ethan   16     88\n",
      "5     Fiona   15     95\n",
      "6    George   17     67\n",
      "7    Hannah   16     80\n",
      "8       Ian   15     90\n",
      "9     Julia   17     73\n",
      "10    Kevin   16     82\n",
      "11    Laura   15     96\n",
      "12  Michael   17     68\n",
      "13     Nina   16     87\n",
      "14    Oscar   15     91\n",
      "15    Paula   17     77\n",
      "16  Quentin   16     84\n",
      "17   Rachel   15     93\n",
      "18    Steve   17     70\n",
      "19     Tina   16     89\n"
     ]
    }
   ],
   "source": [
    "data = pd.DataFrame(students);\n",
    "print(data)\n"
   ]
  },
  {
   "cell_type": "code",
   "execution_count": 12,
   "id": "f58a762e-333e-4d6c-bc27-1664f4a50f56",
   "metadata": {},
   "outputs": [
    {
     "name": "stdout",
     "output_type": "stream",
     "text": [
      "82.95\n"
     ]
    }
   ],
   "source": [
    "avarage_marks_per_student = data[\"marks\"].mean()\n",
    "print(avarage_marks_per_student)"
   ]
  },
  {
   "cell_type": "code",
   "execution_count": 14,
   "id": "9f14a787-47c3-44f1-b9b8-0b9087a87027",
   "metadata": {},
   "outputs": [
    {
     "name": "stdout",
     "output_type": "stream",
     "text": [
      "96\n"
     ]
    }
   ],
   "source": [
    "highest_total_marks_student = data[\"marks\"].max()\n",
    "print(highest_total_marks_student)"
   ]
  },
  {
   "cell_type": "code",
   "execution_count": null,
   "id": "da2f78ab-e21b-4da6-a5db-9e53c784c084",
   "metadata": {},
   "outputs": [],
   "source": []
  }
 ],
 "metadata": {
  "kernelspec": {
   "display_name": "Python 3 (ipykernel)",
   "language": "python",
   "name": "python3"
  },
  "language_info": {
   "codemirror_mode": {
    "name": "ipython",
    "version": 3
   },
   "file_extension": ".py",
   "mimetype": "text/x-python",
   "name": "python",
   "nbconvert_exporter": "python",
   "pygments_lexer": "ipython3",
   "version": "3.10.12"
  }
 },
 "nbformat": 4,
 "nbformat_minor": 5
}
